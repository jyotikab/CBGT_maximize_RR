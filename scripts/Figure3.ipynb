{
 "cells": [
  {
   "cell_type": "code",
   "execution_count": 1,
   "metadata": {},
   "outputs": [],
   "source": [
    "import seaborn as sns\n",
    "import pylab as pl\n",
    "import numpy as np\n",
    "import pandas as pd\n",
    "import os\n",
    "import matplotlib.cm as cm\n",
    "import pickle\n",
    "import matplotlib.pyplot as plt\n",
    "import sys\n",
    "from mpl_toolkits.mplot3d import Axes3D\n",
    "import scipy.signal as sp_sig\n",
    "from sklearn.cross_decomposition import PLSRegression, CCA\n",
    "import scipy.stats as sp_st\n",
    "from sklearn.preprocessing import StandardScaler\n",
    "from sklearn.decomposition import PCA\n",
    "from sklearn.model_selection import LeaveOneGroupOut, LeaveOneOut, train_test_split, KFold\n",
    "from sklearn.metrics import explained_variance_score\n",
    "\n",
    "import sys\n",
    "sys.path.append('/home/jyotika/Utils/hddm/')\n",
    "\n",
    "import hddm\n",
    "\n"
   ]
  },
  {
   "cell_type": "code",
   "execution_count": 2,
   "metadata": {},
   "outputs": [],
   "source": [
    "off_data_dir1 = \"../churchland_code/Data/GA/Cx_D1_mostly_positive/\"\n",
    "off_data_dir = \"../churchland_code/Data/GA/Cx_D1_mostly_positive/o_f_f/\" #\" wo_corticostriatal/\"\n",
    "figure_dir = \"../churchland_code/Figures/Cx_D1_mostly_positive/\"\n",
    "\n",
    "plt.rcParams[\"figure.facecolor\"] = \"w\""
   ]
  },
  {
   "cell_type": "code",
   "execution_count": 3,
   "metadata": {},
   "outputs": [],
   "source": [
    "input_channels = ['CxI_common', 'Cx_left', 'Cx_right', 'D1STR_left', 'D1STR_right',\n",
    "       'D2STR_left', 'D2STR_right', 'FSI_common', 'GPeP_left',\n",
    "       'GPeP_right', 'GPi_left', 'GPi_right', 'STNE_left', 'STNE_right',\n",
    "       'Th_left', 'Th_right']\n",
    "nuclei = [\"GPi\",\"STNE\",\"GPeP\",\"D1STR\",\"D2STR\",\"Cx\",\"Th\"]\n",
    "channels = [\"left\",\"right\",\"common\"]\n",
    "comm_channels = [\"FSI_common\",'CxI_common']\n",
    "lateralized_channels = list(set(input_channels)-set(comm_channels))\n",
    "\n",
    "ddm_params = [\"a\",\"v\",\"t\",\"z\"]"
   ]
  },
  {
   "cell_type": "code",
   "execution_count": 4,
   "metadata": {},
   "outputs": [],
   "source": [
    "sum_cols = [ ch+\"(sum)\" for ch in nuclei]\n",
    "diff_cols = [ ch+\"(diff)\" for ch in nuclei]"
   ]
  },
  {
   "cell_type": "code",
   "execution_count": 5,
   "metadata": {},
   "outputs": [],
   "source": [
    "str_ch = [\"STR(sum)\",\"STR(diff)\"]"
   ]
  },
  {
   "cell_type": "code",
   "execution_count": 6,
   "metadata": {},
   "outputs": [],
   "source": [
    "sum_fr_rt_ddm = pd.read_csv(off_data_dir+\"sum_diff_fr_before_plasticity.csv\")"
   ]
  },
  {
   "cell_type": "code",
   "execution_count": 9,
   "metadata": {},
   "outputs": [],
   "source": [
    "\n",
    "def get_and_plot_CCA(X,Y,x_fields,y_fields,tit=\"\",xlims=(-1.5,1.5),ylims=(-1.0,1.0),return_comp = False,num_c=None,plot_sep=False):\n",
    "    X_zscored = X.copy()\n",
    "    Y_zscored = Y.copy()\n",
    "   \n",
    "    for xf in x_fields:\n",
    "        X_zscored[xf] = (X_zscored[xf].values - X_zscored[xf].mean())/X_zscored[xf].std()\n",
    "\n",
    "    for yf in y_fields:\n",
    "        Y_zscored[yf] = (Y_zscored[yf].values - Y_zscored[yf].mean())/Y_zscored[yf].std()\n",
    "\n",
    "    for xf in x_fields:\n",
    "        X_zscored[xf] = X_zscored[xf].values/np.max(np.abs(X_zscored[xf]))\n",
    "\n",
    "    for yf in y_fields:\n",
    "        Y_zscored[yf] = Y_zscored[yf].values/np.max(np.abs(Y_zscored[yf]))\n",
    "\n",
    "    cca = CCA(n_components=3)\n",
    "    cca.fit(X_zscored[x_fields], Y_zscored[y_fields])\n",
    "    \n",
    "    if \"a\" in x_fields and num_c!=None and num_c>2:\n",
    "        cca.x_loadings_[:,2] = -cca.x_loadings_[:,2]\n",
    "        cca.y_loadings_[:,2] = -cca.y_loadings_[:,2]\n",
    "    cmap = cm.get_cmap('PiYG',11)\n",
    "    \n",
    "    pl.figure()\n",
    "    g2 = sns.heatmap(cca.x_loadings_,cmap=cmap,yticklabels=x_fields,vmin=xlims[0],vmax=xlims[1])\n",
    "    g2.figure.suptitle(tit)\n",
    "    g2.figure.subplots_adjust(left=0.18)\n",
    "    \n",
    "    \n",
    "    pl.figure()\n",
    "    g3 = sns.heatmap(cca.y_loadings_,cmap=cmap,yticklabels=y_fields,vmin=ylims[0],vmax=ylims[1])\n",
    "    g3.figure.suptitle(tit)\n",
    "    g3.figure.subplots_adjust(left=0.06,right=0.95)\n",
    "\n",
    "    if return_comp == False:\n",
    "        return g2,g3#,results_fr_ddm\n",
    "    else:\n",
    "        return g2,g3,cca#,results_fr_ddm\n",
    "\n"
   ]
  },
  {
   "cell_type": "code",
   "execution_count": 10,
   "metadata": {},
   "outputs": [
    {
     "data": {
      "image/png": "[encoded data removed]",
      "text/plain": [
       "<Figure size 432x288 with 2 Axes>"
      ]
     },
     "metadata": {},
     "output_type": "display_data"
    },
    {
     "data": {
      "image/png": "[encoded data removed]",
      "text/plain": [
       "<Figure size 432x288 with 2 Axes>"
      ]
     },
     "metadata": {},
     "output_type": "display_data"
    }
   ],
   "source": [
    "X = sum_fr_rt_ddm[sum_cols+diff_cols+comm_channels+str_ch+[\"seed\",\"network_type\"]]\n",
    "Y = sum_fr_rt_ddm[[\"a\",\"v\",\"t\",\"z\",\"seed\",\"network_type\"]]\n",
    "\n",
    "g2,g3,cca_off_all = get_and_plot_CCA(X,Y,comm_channels+sum_cols+[str_ch[0]]+diff_cols+[str_ch[1]],ddm_params,return_comp=True,xlims=(-0.7,0.7),plot_sep=True,num_c=3)\n",
    "\n",
    "sum_cols_plot = [\"dSPN(sum)\" if \"D1STR\" in x else \"iSPN(sum)\" if \"D2STR\" in x else \"STN(sum)\" if \"STNE\"in x else \"GPe(sum)\" if \"GPe\" in x else x  for x in sum_cols+[str_ch[0]]]\n",
    "diff_cols_plot = [\"dSPN(diff)\" if \"D1STR\" in x else \"iSPN(diff)\" if \"D2STR\" in x else \"STN(diff)\" if \"STNE\"in x else \"GPe(diff)\" if \"GPe\" in x else x  for x in diff_cols+[str_ch[1]]]\n",
    "yticklabs = [x.split('_')[0] for x in comm_channels] + sum_cols_plot +diff_cols_plot\n",
    "g2.axes.set_xticklabels([\"CC1\",\"CC2\",\"CC3\"])\n",
    "g2.axes.set_yticklabels(yticklabs)\n",
    "pl.tight_layout()\n",
    "\n"
   ]
  },
  {
   "cell_type": "code",
   "execution_count": null,
   "metadata": {},
   "outputs": [],
   "source": []
  }
 ],
 "metadata": {
  "kernelspec": {
   "display_name": "Python 3 (ipykernel)",
   "language": "python",
   "name": "python3"
  },
  "language_info": {
   "codemirror_mode": {
    "name": "ipython",
    "version": 3
   },
   "file_extension": ".py",
   "mimetype": "text/x-python",
   "name": "python",
   "nbconvert_exporter": "python",
   "pygments_lexer": "ipython3",
   "version": "3.8.12"
  }
 },
 "nbformat": 4,
 "nbformat_minor": 4
}
